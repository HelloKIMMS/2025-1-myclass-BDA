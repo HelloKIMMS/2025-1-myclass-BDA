{
  "nbformat": 4,
  "nbformat_minor": 0,
  "metadata": {
    "colab": {
      "provenance": [],
      "authorship_tag": "ABX9TyOoBNgOIp72sfFkNj0AyuIp",
      "include_colab_link": true
    },
    "kernelspec": {
      "name": "python3",
      "display_name": "Python 3"
    },
    "language_info": {
      "name": "python"
    }
  },
  "cells": [
    {
      "cell_type": "markdown",
      "metadata": {
        "id": "view-in-github",
        "colab_type": "text"
      },
      "source": [
        "<a href=\"https://colab.research.google.com/github/HelloKIMMS/2025-1-myclass-BDA/blob/main/%EC%9E%90%EB%A3%8C%EA%B5%AC%EC%A1%B0A_0930.ipynb\" target=\"_parent\"><img src=\"https://colab.research.google.com/assets/colab-badge.svg\" alt=\"Open In Colab\"/></a>"
      ]
    },
    {
      "cell_type": "code",
      "source": [
        "class ArrayList:\n",
        "  # 리스트의 데이터: 생성자에서 정의 및 초기화\n",
        "    def __init__(self,capacity=100):\n",
        "      self.capacity = capacity\n",
        "      self.data = [None] * capacity\n",
        "      self.size = 0\n",
        "\n",
        "  # 리스트의 연산: 클래스의 메소드\n",
        "    def isEmpty(self):\n",
        "      return self.size == 0\n",
        "\n",
        "    def isFull(self):\n",
        "      return self.size == self.capacity\n",
        "\n",
        "    def getEntry(self, pos):\n",
        "      if 0 <= pos < self.size:\n",
        "        return self.data[pos]\n",
        "      else: return None\n",
        "\n",
        "    def insert(self, pos, e):\n",
        "      if not self.isFull() and 0 <= pos <= self.size:\n",
        "        for i in range(self.size, pos, -1):\n",
        "          self.array[i] = self.array[i-1]\n",
        "        self.data[pos] = e\n",
        "        self.size += 1\n",
        "      else: pass\n",
        "\n",
        "    def delete(self, pos):\n",
        "      if not self.isEmpty() and 0 <= pos < self.size:\n",
        "        e = self.array[pos]\n",
        "        for i in range(pos, self.size-1):\n",
        "          self.array[i] = self.array[i+1]\n",
        "        self.size -= 1\n",
        "        return e\n",
        "      else: pass\n",
        "\n",
        "    def __str__(self):\n",
        "      return str(self.data[:self.size])"
      ],
      "metadata": {
        "id": "rUyGb0PwFAzT"
      },
      "execution_count": 10,
      "outputs": []
    },
    {
      "cell_type": "code",
      "source": [
        "ls= ArrayList() #객체 생성\n",
        "print(ls)"
      ],
      "metadata": {
        "colab": {
          "base_uri": "https://localhost:8080/"
        },
        "id": "ZVASAcbrHQMT",
        "outputId": "dc15c763-6897-49ea-af17-88f6cba6ecb1"
      },
      "execution_count": 19,
      "outputs": [
        {
          "output_type": "stream",
          "name": "stdout",
          "text": [
            "[]\n"
          ]
        }
      ]
    },
    {
      "cell_type": "code",
      "source": [
        "# 1.데이터삽입('a','b','c')\n",
        "ls.insert(0,'a')\n",
        "ls.insert(1,'b')\n",
        "ls.insert(2,'c')\n",
        "print(ls)"
      ],
      "metadata": {
        "colab": {
          "base_uri": "https://localhost:8080/"
        },
        "id": "oojDtxTCHqKd",
        "outputId": "dbcc75ac-1f78-4d95-8f2c-9040436c25b2"
      },
      "execution_count": 13,
      "outputs": [
        {
          "output_type": "stream",
          "name": "stdout",
          "text": [
            "['a', 'b', 'c']\n"
          ]
        }
      ]
    },
    {
      "cell_type": "code",
      "source": [
        "# 2.데이터 조회\n",
        "print(ls.getEntry(1))"
      ],
      "metadata": {
        "colab": {
          "base_uri": "https://localhost:8080/"
        },
        "id": "DQf5a3t8JRek",
        "outputId": "4b107ee4-023b-4f1c-d4a7-beb3b1d5b29d"
      },
      "execution_count": 15,
      "outputs": [
        {
          "output_type": "stream",
          "name": "stdout",
          "text": [
            "b\n"
          ]
        }
      ]
    },
    {
      "cell_type": "code",
      "source": [
        "# 3.데이터 삭제\n",
        "delete=ls.delete(1)\n",
        "print(\"삭제된 요소:\",delete)\n",
        "print(\"삭제 후 리스트:\",ls)"
      ],
      "metadata": {
        "colab": {
          "base_uri": "https://localhost:8080/"
        },
        "id": "uHl9_cB4KaUU",
        "outputId": "6ca4d176-03ee-4304-b64d-a1408057f5f6"
      },
      "execution_count": 20,
      "outputs": [
        {
          "output_type": "stream",
          "name": "stdout",
          "text": [
            "삭제된 요소: None\n",
            "삭제 후 리스트: []\n"
          ]
        }
      ]
    },
    {
      "cell_type": "code",
      "source": [
        "# 4.리스트가 비어있는지 확인\n",
        "ls.isEmpty()\n",
        "print(ls)"
      ],
      "metadata": {
        "colab": {
          "base_uri": "https://localhost:8080/"
        },
        "id": "PCgKUMSlKamj",
        "outputId": "bde7b6b2-947e-46e3-c315-53ff333ed181"
      },
      "execution_count": 21,
      "outputs": [
        {
          "output_type": "stream",
          "name": "stdout",
          "text": [
            "[]\n"
          ]
        }
      ]
    },
    {
      "cell_type": "markdown",
      "source": [
        "클래스"
      ],
      "metadata": {
        "id": "_GBE94iWPAKU"
      }
    },
    {
      "cell_type": "code",
      "source": [
        "class Car:\n",
        "  def __init__(self, color, speed=0):\n",
        "    self.color = color\n",
        "    self.speed = speed\n",
        "  def speedUp(self):\n",
        "    self.speed += 10\n",
        "  def speedDown(self):\n",
        "    self.speed -= 10"
      ],
      "metadata": {
        "id": "kNDVK1yqOrU0"
      },
      "execution_count": 23,
      "outputs": []
    },
    {
      "cell_type": "code",
      "source": [
        "my_car = Car('black',0)\n",
        "mom_car = Car('red',120)\n",
        "dad_car = Car('yellow')\n",
        "print(dad_car.speed)"
      ],
      "metadata": {
        "colab": {
          "base_uri": "https://localhost:8080/"
        },
        "id": "F9pSyKJEPOn-",
        "outputId": "59c1b0f6-10d6-46d2-8e5a-b3723aee0399"
      },
      "execution_count": 25,
      "outputs": [
        {
          "output_type": "stream",
          "name": "stdout",
          "text": [
            "0\n"
          ]
        }
      ]
    },
    {
      "cell_type": "code",
      "source": [
        "my_car.speedUp()\n",
        "mom_car.speedDown()\n",
        "mom_car.speedDown()\n",
        "print(mom_car.speed)"
      ],
      "metadata": {
        "colab": {
          "base_uri": "https://localhost:8080/"
        },
        "id": "0Pwg7AigRKPX",
        "outputId": "de75664d-40ba-406a-d768-74a76d5bdb90"
      },
      "execution_count": 27,
      "outputs": [
        {
          "output_type": "stream",
          "name": "stdout",
          "text": [
            "90\n"
          ]
        }
      ]
    },
    {
      "cell_type": "markdown",
      "source": [
        "클래스 정의와 생성자"
      ],
      "metadata": {
        "id": "xQiFBV1GWEVW"
      }
    },
    {
      "cell_type": "code",
      "source": [
        "class Stack:\n",
        "  def __init__(self, capacity):\n",
        "    self.capacity = capacity\n",
        "    self.items = [None]*self.capacity\n",
        "    self.top = 0\n",
        "\n",
        "  def size(self):\n",
        "    return self.top\n",
        "\n",
        "  def clear(self):\n",
        "    self.top = 0\n",
        "\n",
        "  def isEmpty(self):\n",
        "    if self.top == 0:\n",
        "      return True\n",
        "    else:\n",
        "      return False\n",
        "\n",
        "  def isFull(self):\n",
        "    if self.top == self.capacity:\n",
        "      return True\n",
        "    else:\n",
        "      return False\n",
        "\n",
        "  def push(self, item):\n",
        "    if not self.isFull():\n",
        "      self.items[self.top] = item\n",
        "      self.top += 1\n",
        "    else:\n",
        "      print(\"overflow\")\n",
        "      exit()\n",
        "\n",
        "  def pop(self):\n",
        "    if not self.isEmpty():\n",
        "      self.top -= 1\n",
        "      return self.items[self.top]\n",
        "    else:\n",
        "      print(\"underflow\")\n",
        "      exit()\n",
        "\n",
        "  def peek(self):\n",
        "    if not self.isEmpty():\n",
        "      return self.items[self.top-1]\n",
        "    else:\n",
        "      print(\"underflow\")\n",
        "      exit()"
      ],
      "metadata": {
        "id": "W6_Hun8TRi8g"
      },
      "execution_count": 31,
      "outputs": []
    },
    {
      "cell_type": "code",
      "source": [
        "class ArrayStack :\n",
        "    def __init__( self, capacity ):         # 생성자 정의\n",
        "        self.capacity = capacity           # 용량(고정)\n",
        "        self.array = [None]*self.capacity   # 요소들을 저장할 배열\n",
        "        self.top = -1                     # 스택 상단의 인덱스\n",
        "\n",
        "    # 코드 1.2b: 스택 클래스의 연산들\n",
        "    def isEmpty( self ) :\n",
        "       return self.top == -1\n",
        "\n",
        "    def isFull( self ) :\n",
        "       return self.top == self.capacity-1\n",
        "\n",
        "    def push( self, item ):\n",
        "        if not self.isFull() :\n",
        "            self.top += 1\n",
        "            self.array[self.top] = item\n",
        "        else: pass              # overflow 예외는 처리하지 않았음\n",
        "\n",
        "    def pop( self ):\n",
        "        if not self.isEmpty():\n",
        "            self.top -= 1\n",
        "            return self.array[self.top+1]\n",
        "        else: pass              # underflow 예외는 처리하지 않았음\n",
        "\n",
        "    def peek( self ):\n",
        "        if not self.isEmpty():\n",
        "            return self.array[self.top]\n",
        "        else: pass              # underflow 예외는 처리하지 않았음\n",
        "\n",
        "    def __str__(self ) :\n",
        "        return str(self.array[0:self.top+1][::-1])\n",
        "\n",
        "    def size( self ) : return self.top+1"
      ],
      "metadata": {
        "id": "VV5t0dYSWWk5"
      },
      "execution_count": 29,
      "outputs": []
    },
    {
      "cell_type": "code",
      "source": [
        "stack = ArrayStack(5)\n",
        "\n",
        "# 1.데이터삽입\n",
        "stack.push('a')\n",
        "stack.push('b')\n",
        "stack.push('c')\n",
        "print(stack)"
      ],
      "metadata": {
        "colab": {
          "base_uri": "https://localhost:8080/"
        },
        "id": "8p5r7Ynye69w",
        "outputId": "22a78eed-e6ed-4c7e-f8b1-7d08a7092c09"
      },
      "execution_count": 34,
      "outputs": [
        {
          "output_type": "stream",
          "name": "stdout",
          "text": [
            "['c', 'b', 'a']\n"
          ]
        }
      ]
    },
    {
      "cell_type": "code",
      "source": [
        "# 2.최상단 항목 확인(peek)\n",
        "top_item = stack.peek()\n",
        "print(\"최상단 항목:\",top_item)\n",
        "print(stack)"
      ],
      "metadata": {
        "colab": {
          "base_uri": "https://localhost:8080/"
        },
        "id": "NdkMfpQYfCMp",
        "outputId": "90663fdc-a233-45f3-ef7e-a14c387e5e12"
      },
      "execution_count": 35,
      "outputs": [
        {
          "output_type": "stream",
          "name": "stdout",
          "text": [
            "최상단 항목: c\n",
            "['c', 'b', 'a']\n"
          ]
        }
      ]
    },
    {
      "cell_type": "code",
      "source": [
        "# 3.데이터 추출(pop)\n",
        "pop_item = stack.pop()\n",
        "print(\"pop결과:\",pop_item)\n",
        "print(stack)"
      ],
      "metadata": {
        "colab": {
          "base_uri": "https://localhost:8080/"
        },
        "id": "ImVC4N6bgpMT",
        "outputId": "4ad40137-45ea-4a26-9ccf-183c3591b5a7"
      },
      "execution_count": 36,
      "outputs": [
        {
          "output_type": "stream",
          "name": "stdout",
          "text": [
            "pop결과: c\n",
            "['b', 'a']\n"
          ]
        }
      ]
    },
    {
      "cell_type": "code",
      "source": [
        "# 4.빈 상태 확인'\n",
        "print(\"스택이 비어있는가?\",stack.isEmpty())"
      ],
      "metadata": {
        "colab": {
          "base_uri": "https://localhost:8080/"
        },
        "id": "7YCsAqumgwgj",
        "outputId": "60d1b394-4667-4371-fc9d-a36e4f690890"
      },
      "execution_count": 38,
      "outputs": [
        {
          "output_type": "stream",
          "name": "stdout",
          "text": [
            "스택이 비어있는가? False\n"
          ]
        }
      ]
    },
    {
      "cell_type": "code",
      "source": [
        "s = ArrayStack(100)\n",
        "msg = input(\"문자열 입력:\")\n",
        "for c in msg:\n",
        "  s.push(c)\n",
        "print(\"문자열 출력:\",end='')\n",
        "while not s.isEmpty():\n",
        "  print(s.pop(),end='')"
      ],
      "metadata": {
        "colab": {
          "base_uri": "https://localhost:8080/"
        },
        "id": "_dN3WH4ZhiH5",
        "outputId": "ba3aab52-e0c8-4bf2-edb5-3ad72bb15d8a"
      },
      "execution_count": 44,
      "outputs": [
        {
          "output_type": "stream",
          "name": "stdout",
          "text": [
            "문자열 입력:안녕하세요 반갑습니다\n",
            "문자열 출력:다니습갑반 요세하녕안"
          ]
        }
      ]
    }
  ]
}