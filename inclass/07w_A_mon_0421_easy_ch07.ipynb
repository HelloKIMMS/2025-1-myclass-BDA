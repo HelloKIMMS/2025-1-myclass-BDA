{
  "nbformat": 4,
  "nbformat_minor": 0,
  "metadata": {
    "colab": {
      "provenance": [],
      "authorship_tag": "ABX9TyPQw1f6D6erp94TMIWI/6RO",
      "include_colab_link": true
    },
    "kernelspec": {
      "name": "python3",
      "display_name": "Python 3"
    },
    "language_info": {
      "name": "python"
    }
  },
  "cells": [
    {
      "cell_type": "markdown",
      "metadata": {
        "id": "view-in-github",
        "colab_type": "text"
      },
      "source": [
        "<a href=\"https://colab.research.google.com/github/HelloKIMMS/2025-1-myclass-BDA/blob/main/inclass/07w_A_mon_0421_easy_ch07.ipynb\" target=\"_parent\"><img src=\"https://colab.research.google.com/assets/colab-badge.svg\" alt=\"Open In Colab\"/></a>"
      ]
    },
    {
      "cell_type": "markdown",
      "source": [
        "# 단원07 데이터 정제"
      ],
      "metadata": {
        "id": "O3QLNo0FE26d"
      }
    },
    {
      "cell_type": "code",
      "execution_count": null,
      "metadata": {
        "id": "G46WGc8zEznd"
      },
      "outputs": [],
      "source": [
        "import pandas as pd\n",
        "import numpy as np\n",
        "df = pd.DataFrame({'sex'   : ['M', 'F', np.nan, 'M', 'F'],\n",
        "                   'score' : [5, 4, 3, 4, None]})\n",
        "df"
      ]
    },
    {
      "cell_type": "code",
      "source": [
        "df.score + 1"
      ],
      "metadata": {
        "id": "Rhq_yA1DE5nU"
      },
      "execution_count": null,
      "outputs": []
    },
    {
      "cell_type": "code",
      "source": [
        "pd.isna(df)"
      ],
      "metadata": {
        "id": "O-mzh5iUE5lN"
      },
      "execution_count": null,
      "outputs": []
    },
    {
      "cell_type": "code",
      "source": [
        "pd.isnull(df)"
      ],
      "metadata": {
        "id": "18uc2GssE5i9"
      },
      "execution_count": null,
      "outputs": []
    },
    {
      "cell_type": "code",
      "source": [
        "pd.isna(df).sum()"
      ],
      "metadata": {
        "id": "IAyjRBY4E5go"
      },
      "execution_count": null,
      "outputs": []
    },
    {
      "cell_type": "code",
      "source": [
        "pd.isna(df).sum(axis=0)"
      ],
      "metadata": {
        "id": "TtyyN1iQE5ed"
      },
      "execution_count": null,
      "outputs": []
    },
    {
      "cell_type": "code",
      "source": [
        "pd.isna(df).sum(axis='index')"
      ],
      "metadata": {
        "id": "7nF6kUSIE5cV"
      },
      "execution_count": null,
      "outputs": []
    },
    {
      "cell_type": "code",
      "source": [
        "c"
      ],
      "metadata": {
        "id": "3jE-D9BRE5Z8"
      },
      "execution_count": null,
      "outputs": []
    },
    {
      "cell_type": "code",
      "source": [
        "pd.isna(df).sum(axis='columns')"
      ],
      "metadata": {
        "id": "3oI4wDhyE5X1"
      },
      "execution_count": null,
      "outputs": []
    },
    {
      "cell_type": "code",
      "source": [
        "pd.isna(df).sum(axis='index')"
      ],
      "metadata": {
        "id": "t9XFJfQPE5Vk"
      },
      "execution_count": null,
      "outputs": []
    },
    {
      "cell_type": "code",
      "source": [
        "df.isna().sum()"
      ],
      "metadata": {
        "id": "6hgmeAz0E5TU"
      },
      "execution_count": null,
      "outputs": []
    },
    {
      "cell_type": "code",
      "source": [
        "df.isna().sum(axis=0)"
      ],
      "metadata": {
        "id": "on45BmyeE5RE"
      },
      "execution_count": null,
      "outputs": []
    },
    {
      "cell_type": "code",
      "source": [
        "df.isna().sum(axis=1)"
      ],
      "metadata": {
        "id": "uCoYSDAEE5Ot"
      },
      "execution_count": null,
      "outputs": []
    },
    {
      "cell_type": "code",
      "source": [
        "s = pd.Series([True, False, True])\n",
        "s"
      ],
      "metadata": {
        "id": "mqBDiYAcE5Mc"
      },
      "execution_count": null,
      "outputs": []
    },
    {
      "cell_type": "code",
      "source": [
        "s.sum()"
      ],
      "metadata": {
        "id": "NuU3A7_QE5Kc"
      },
      "execution_count": null,
      "outputs": []
    },
    {
      "cell_type": "code",
      "source": [
        "s.any()"
      ],
      "metadata": {
        "id": "0UXq4KO5FGZc"
      },
      "execution_count": null,
      "outputs": []
    },
    {
      "cell_type": "code",
      "source": [
        "s.all()"
      ],
      "metadata": {
        "id": "bYok4VVNFGXd"
      },
      "execution_count": null,
      "outputs": []
    },
    {
      "cell_type": "code",
      "source": [
        "df.isna()"
      ],
      "metadata": {
        "id": "wX-uO-JJFGVd"
      },
      "execution_count": null,
      "outputs": []
    },
    {
      "cell_type": "code",
      "source": [
        "df.isna().any() # 열별로 결측치가 하나라도 있으면 True"
      ],
      "metadata": {
        "id": "qGyKnmVtFGTX"
      },
      "execution_count": null,
      "outputs": []
    },
    {
      "cell_type": "code",
      "source": [
        "df.notna()"
      ],
      "metadata": {
        "id": "L0TmNHBSFGRP"
      },
      "execution_count": null,
      "outputs": []
    },
    {
      "cell_type": "code",
      "source": [
        "df.notnull()"
      ],
      "metadata": {
        "id": "ajDn9zG_FGPF"
      },
      "execution_count": null,
      "outputs": []
    },
    {
      "cell_type": "code",
      "source": [
        "df.isna().all() # 열별로 모두 결측치이면 True"
      ],
      "metadata": {
        "id": "YU4VrXL8FGM3"
      },
      "execution_count": null,
      "outputs": []
    },
    {
      "cell_type": "code",
      "source": [
        "df.isna().any(axis=1) # 행별로 결측치가 하나라도 있으면 True"
      ],
      "metadata": {
        "id": "fxB-O1LWFGKu"
      },
      "execution_count": null,
      "outputs": []
    },
    {
      "cell_type": "code",
      "source": [
        "~df.isna().any(axis=1)"
      ],
      "metadata": {
        "id": "7I2eW7h7FGIn"
      },
      "execution_count": null,
      "outputs": []
    },
    {
      "cell_type": "code",
      "source": [
        "df.isna().all(axis=1) # 행별로 모두 결측치이면 True"
      ],
      "metadata": {
        "id": "uTBPFL5nFGGM"
      },
      "execution_count": null,
      "outputs": []
    },
    {
      "cell_type": "code",
      "source": [
        "~df.isna().all(axis=1)"
      ],
      "metadata": {
        "id": "8nj8gsAwFGD0"
      },
      "execution_count": null,
      "outputs": []
    },
    {
      "cell_type": "code",
      "source": [
        "# 적어도 하나 이상 NaN인 행을 추출, 시험 예상\n",
        "df[ df.isna().any(axis=1) ]"
      ],
      "metadata": {
        "id": "M_W7C3MtFGBq"
      },
      "execution_count": null,
      "outputs": []
    },
    {
      "cell_type": "code",
      "source": [
        "# 적어도 하나 이상 NaN인 행을 추출, 시험 예상\n",
        "df.loc[ df.isna().any(axis=1) ]"
      ],
      "metadata": {
        "id": "G-I8GDiPFF_Y"
      },
      "execution_count": null,
      "outputs": []
    },
    {
      "cell_type": "code",
      "source": [
        "# NaN이 하나도 없는 행을 추출, 시험 예상\n",
        "df[ ~df.isna().any(axis=1) ]"
      ],
      "metadata": {
        "id": "2jqxh-ccFS_f"
      },
      "execution_count": null,
      "outputs": []
    },
    {
      "cell_type": "code",
      "source": [
        "# NaN이 하나도 없는 행을 추출, 시험 예상\n",
        "df.loc[ ~df.isna().any(axis=1) ]"
      ],
      "metadata": {
        "id": "kJlpdcBdFS9U"
      },
      "execution_count": null,
      "outputs": []
    },
    {
      "cell_type": "markdown",
      "source": [
        "## 결측값 시각화"
      ],
      "metadata": {
        "id": "24HgafhlFVHm"
      }
    },
    {
      "cell_type": "code",
      "source": [
        "df.isna()"
      ],
      "metadata": {
        "id": "6eznZ-tqFS7N"
      },
      "execution_count": null,
      "outputs": []
    },
    {
      "cell_type": "code",
      "source": [
        "import seaborn as sns\n",
        "\n",
        "sns.heatmap(df.isna());"
      ],
      "metadata": {
        "id": "fgwTE0voFS5F"
      },
      "execution_count": null,
      "outputs": []
    },
    {
      "cell_type": "code",
      "source": [
        "sns.heatmap(df.isnull());"
      ],
      "metadata": {
        "id": "lRxnWZ5CFS28"
      },
      "execution_count": null,
      "outputs": []
    },
    {
      "cell_type": "code",
      "source": [
        "sns.heatmap(df.isnull(), cbar=False);"
      ],
      "metadata": {
        "id": "m9hkYMZnFS00"
      },
      "execution_count": null,
      "outputs": []
    },
    {
      "cell_type": "code",
      "source": [
        "import missingno as msno\n",
        "\n",
        "msno.matrix(df);"
      ],
      "metadata": {
        "id": "F7pUIf5rFSym"
      },
      "execution_count": null,
      "outputs": []
    },
    {
      "cell_type": "code",
      "source": [
        "tdf = sns.load_dataset('titanic')\n",
        "sns.heatmap(tdf.isna(), cbar=False);"
      ],
      "metadata": {
        "id": "6toctRa2FSwV"
      },
      "execution_count": null,
      "outputs": []
    },
    {
      "cell_type": "code",
      "source": [
        "tdf = sns.load_dataset('titanic')\n",
        "sns.heatmap(tdf[50:840].isna(), cbar=False);"
      ],
      "metadata": {
        "id": "QteojfvRFSt-"
      },
      "execution_count": null,
      "outputs": []
    },
    {
      "cell_type": "code",
      "source": [
        "msno.matrix(tdf);"
      ],
      "metadata": {
        "id": "feVqF6IhFSrs"
      },
      "execution_count": null,
      "outputs": []
    },
    {
      "cell_type": "markdown",
      "source": [
        "- 오른쪽의 스파크라인은 데이터 완성도의 일반적인 모양을 요약하고 데이터 세트에서 최대 및 최소 널링이 있는 행을 가리킵니다.\n",
        "    - 행마다 15개중 NaN이 아닌 유효한 데이터의 갯수를 나타내고\n",
        "    - 그 점을 다음 행과 연결한 선"
      ],
      "metadata": {
        "id": "7vKz2MiiFfIG"
      }
    },
    {
      "cell_type": "code",
      "source": [
        "tdf.info()"
      ],
      "metadata": {
        "id": "iXeYAj_-FSpX"
      },
      "execution_count": null,
      "outputs": []
    },
    {
      "cell_type": "code",
      "source": [
        "tdf2 = tdf.sample(20)\n",
        "tdf2"
      ],
      "metadata": {
        "id": "rAqvtkrFFSm9"
      },
      "execution_count": null,
      "outputs": []
    },
    {
      "cell_type": "code",
      "source": [
        "msno.matrix(tdf2);"
      ],
      "metadata": {
        "id": "2Oat5sR7FSkt"
      },
      "execution_count": null,
      "outputs": []
    },
    {
      "cell_type": "code",
      "source": [
        "# NaN이 1개인 행을 추출\n",
        "tdf[ tdf.isna().sum(axis=1) == 1 ]"
      ],
      "metadata": {
        "id": "-0ADXMTEFi2r"
      },
      "execution_count": null,
      "outputs": []
    },
    {
      "cell_type": "code",
      "source": [
        "tdf[ tdf.isna().sum(axis=1) == 2 ]"
      ],
      "metadata": {
        "id": "H1i8JwPbFi0t"
      },
      "execution_count": null,
      "outputs": []
    },
    {
      "cell_type": "code",
      "source": [
        "tdf[ tdf.isna().sum(axis=1) == 3 ]"
      ],
      "metadata": {
        "id": "I0N99beKFiyk"
      },
      "execution_count": null,
      "outputs": []
    },
    {
      "cell_type": "code",
      "source": [
        "msno.matrix( tdf[ tdf.isna().sum(axis=1) == 1 ] );"
      ],
      "metadata": {
        "id": "N3QkAkBiFiwc"
      },
      "execution_count": null,
      "outputs": []
    },
    {
      "cell_type": "code",
      "source": [
        "msno.matrix( tdf[ tdf.isna().sum(axis=1) == 2 ] );"
      ],
      "metadata": {
        "id": "QAQAjOXvFiud"
      },
      "execution_count": null,
      "outputs": []
    },
    {
      "cell_type": "code",
      "source": [
        "# 열 embarked가 NaN인 행 추출\n",
        "tdf[ tdf.embarked.isna() ]"
      ],
      "metadata": {
        "id": "QCtn3DGnFisV"
      },
      "execution_count": null,
      "outputs": []
    },
    {
      "cell_type": "code",
      "source": [
        "# 두 열, age, deck이 모두 NaN인 행 추출\n",
        "tdf[ (tdf.age.isna()) & (tdf.deck.isna()) ]"
      ],
      "metadata": {
        "id": "qpyoz0oIFiqZ"
      },
      "execution_count": null,
      "outputs": []
    },
    {
      "cell_type": "code",
      "source": [
        "# 세 개 열, age, deck, embark_town이 모두 NaN인 행 추출\n",
        "tdf[(tdf.age.isna()) & (tdf.deck.isna()) & (tdf.embark_town.isna()) ]"
      ],
      "metadata": {
        "id": "LkQy_6s2FioN"
      },
      "execution_count": null,
      "outputs": []
    },
    {
      "cell_type": "code",
      "source": [
        "# 최소한 1개의 NaN에 있는 행 추출\n",
        "tdf[ tdf.isna().any(axis=1) ]"
      ],
      "metadata": {
        "id": "iUvAEgPuFimP"
      },
      "execution_count": null,
      "outputs": []
    },
    {
      "cell_type": "code",
      "source": [
        "msno.bar(tdf);"
      ],
      "metadata": {
        "id": "MZ5MRu_xFij9"
      },
      "execution_count": null,
      "outputs": []
    },
    {
      "cell_type": "code",
      "source": [
        "msno.heatmap(tdf);"
      ],
      "metadata": {
        "id": "6tnOkiJKFih0"
      },
      "execution_count": null,
      "outputs": []
    },
    {
      "cell_type": "markdown",
      "source": [
        "## 종료"
      ],
      "metadata": {
        "id": "5GH3T9IlFsGf"
      }
    }
  ]
}